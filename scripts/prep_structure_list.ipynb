{
 "cells": [
  {
   "cell_type": "code",
   "execution_count": 1,
   "id": "28a34916-9ee7-4198-a52a-606629e27e34",
   "metadata": {},
   "outputs": [],
   "source": [
    "finished = []\n",
    "with open('../runs/finished.lst','r') as finished_file:\n",
    "    for line in finished_file:\n",
    "        finished.append(line.split()[4])\n",
    "\n",
    "all_wp = []\n",
    "with open('../runs/job/pseudodesulfovibrio.lst','r') as all_file, open('../runs/job/pseudodesulfovibrio_run3.lst','w') as out_file:\n",
    "    for line in all_file:\n",
    "        wp = line.split()[0]\n",
    "        all_wp.append(wp)\n",
    "        if wp in finished:\n",
    "            continue\n",
    "        out_file.write(line)\n"
   ]
  },
  {
   "cell_type": "code",
   "execution_count": 2,
   "id": "5e845a5c-ffc5-410b-9384-ca207f71c1ad",
   "metadata": {},
   "outputs": [
    {
     "name": "stdout",
     "output_type": "stream",
     "text": [
      "1868\n",
      "3446\n"
     ]
    }
   ],
   "source": [
    "print(len(finished))\n",
    "print(len(all_wp))"
   ]
  },
  {
   "cell_type": "code",
   "execution_count": null,
   "id": "2a7ce941-2ab5-4dd2-b909-58e5e826bd80",
   "metadata": {},
   "outputs": [],
   "source": []
  }
 ],
 "metadata": {
  "kernelspec": {
   "display_name": "slate_analysis",
   "language": "python",
   "name": "slate_analysis"
  },
  "language_info": {
   "codemirror_mode": {
    "name": "ipython",
    "version": 3
   },
   "file_extension": ".py",
   "mimetype": "text/x-python",
   "name": "python",
   "nbconvert_exporter": "python",
   "pygments_lexer": "ipython3",
   "version": "3.8.0"
  }
 },
 "nbformat": 4,
 "nbformat_minor": 5
}
